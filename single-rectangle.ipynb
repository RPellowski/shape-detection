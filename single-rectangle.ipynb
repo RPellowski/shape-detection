{
 "cells": [
  {
   "cell_type": "code",
   "execution_count": 20,
   "metadata": {
    "ExecuteTime": {
     "end_time": "2016-07-08T01:56:12.535000",
     "start_time": "2016-07-08T01:56:12.147000"
    },
    "tags": []
   },
   "outputs": [],
   "source": [
    "import numpy as np\n",
    "import matplotlib.pyplot as plt\n",
    "import matplotlib\n",
    "%matplotlib inline"
   ]
  },
  {
   "cell_type": "code",
   "execution_count": 21,
   "metadata": {
    "ExecuteTime": {
     "end_time": "2016-07-08T01:56:14.210000",
     "start_time": "2016-07-08T01:56:13.200000"
    },
    "collapsed": false,
    "jupyter": {
     "outputs_hidden": false
    }
   },
   "outputs": [
    {
     "data": {
      "text/plain": [
       "((50000, 8, 8), (50000, 1, 4))"
      ]
     },
     "execution_count": 21,
     "metadata": {},
     "output_type": "execute_result"
    }
   ],
   "source": [
    "# Create images with random rectangles and bounding boxes. \n",
    "num_imgs = 50000\n",
    "\n",
    "img_size = 8\n",
    "min_object_size = 1\n",
    "max_object_size = 4\n",
    "num_objects = 1\n",
    "\n",
    "bboxes = np.zeros((num_imgs, num_objects, 4))\n",
    "imgs = np.zeros((num_imgs, img_size, img_size))  # set background to 0\n",
    "\n",
    "for i_img in range(num_imgs):\n",
    "    for i_object in range(num_objects):\n",
    "        w, h = np.random.randint(min_object_size, max_object_size, size=2)\n",
    "        x = np.random.randint(0, img_size - w)\n",
    "        y = np.random.randint(0, img_size - h)\n",
    "        imgs[i_img, x:x+w, y:y+h] = 1.  # set rectangle to 1\n",
    "        bboxes[i_img, i_object] = [x, y, w, h]\n",
    "        \n",
    "imgs.shape, bboxes.shape"
   ]
  },
  {
   "cell_type": "code",
   "execution_count": 22,
   "metadata": {
    "ExecuteTime": {
     "end_time": "2016-07-08T01:56:15.125000",
     "start_time": "2016-07-08T01:56:14.870000"
    },
    "collapsed": false,
    "jupyter": {
     "outputs_hidden": false
    }
   },
   "outputs": [
    {
     "data": {
      "image/png": "[encoded data removed]",
      "text/plain": [
       "<Figure size 432x288 with 1 Axes>"
      ]
     },
     "metadata": {
      "needs_background": "light"
     },
     "output_type": "display_data"
    }
   ],
   "source": [
    "i = 0\n",
    "plt.imshow(imgs[i].T, cmap='Greys', interpolation='none', origin='lower', extent=[0, img_size, 0, img_size])\n",
    "for bbox in bboxes[i]:\n",
    "    plt.gca().add_patch(matplotlib.patches.Rectangle((bbox[0], bbox[1]), bbox[2], bbox[3], ec='r', fc='none'))"
   ]
  },
  {
   "cell_type": "code",
   "execution_count": 23,
   "metadata": {
    "ExecuteTime": {
     "end_time": "2016-07-08T01:56:15.930000",
     "start_time": "2016-07-08T01:56:15.803000"
    },
    "collapsed": false,
    "jupyter": {
     "outputs_hidden": false
    }
   },
   "outputs": [
    {
     "data": {
      "text/plain": [
       "((50000, 64), 6.075140390748857e-17, 1.0)"
      ]
     },
     "execution_count": 23,
     "metadata": {},
     "output_type": "execute_result"
    }
   ],
   "source": [
    "# Reshape and normalize the image data to mean 0 and std 1. \n",
    "X = (imgs.reshape(num_imgs, -1) - np.mean(imgs)) / np.std(imgs)\n",
    "X.shape, np.mean(X), np.std(X)"
   ]
  },
  {
   "cell_type": "code",
   "execution_count": 24,
   "metadata": {
    "ExecuteTime": {
     "end_time": "2016-07-08T01:56:16.558000",
     "start_time": "2016-07-08T01:56:16.548000"
    },
    "collapsed": false,
    "jupyter": {
     "outputs_hidden": false
    }
   },
   "outputs": [
    {
     "data": {
      "text/plain": [
       "((50000, 4), 0.280843125, 0.174788796881363)"
      ]
     },
     "execution_count": 24,
     "metadata": {},
     "output_type": "execute_result"
    }
   ],
   "source": [
    "# Normalize x, y, w, h by img_size, so that all values are between 0 and 1.\n",
    "# Important: Do not shift to negative values (e.g. by setting to mean 0), because the IOU calculation needs positive w and h.\n",
    "y = bboxes.reshape(num_imgs, -1) / img_size\n",
    "y.shape, np.mean(y), np.std(y)"
   ]
  },
  {
   "cell_type": "code",
   "execution_count": 25,
   "metadata": {
    "ExecuteTime": {
     "end_time": "2016-07-08T01:56:17.198000",
     "start_time": "2016-07-08T01:56:17.192000"
    },
    "tags": []
   },
   "outputs": [],
   "source": [
    "# Split training and test.\n",
    "i = int(0.8 * num_imgs)\n",
    "train_X = X[:i]\n",
    "test_X = X[i:]\n",
    "train_y = y[:i]\n",
    "test_y = y[i:]\n",
    "test_imgs = imgs[i:]\n",
    "test_bboxes = bboxes[i:]"
   ]
  },
  {
   "cell_type": "code",
   "execution_count": 27,
   "metadata": {
    "ExecuteTime": {
     "end_time": "2016-07-08T01:56:21.616000",
     "start_time": "2016-07-08T01:56:17.964000"
    },
    "collapsed": false,
    "jupyter": {
     "outputs_hidden": false
    }
   },
   "outputs": [],
   "source": [
    "# Build the model.\n",
    "from tensorflow.keras.models import Sequential\n",
    "from tensorflow.keras.layers import Dense, Activation, Dropout\n",
    "from tensorflow.keras.optimizers import SGD\n",
    "model = Sequential([\n",
    "        Dense(200, input_dim=X.shape[-1]), \n",
    "        Activation('relu'), \n",
    "        Dropout(0.2), \n",
    "        Dense(y.shape[-1])\n",
    "    ])\n",
    "model.compile('adadelta', 'mse')"
   ]
  },
  {
   "cell_type": "code",
   "execution_count": 29,
   "metadata": {
    "ExecuteTime": {
     "end_time": "2016-07-08T01:57:19.973000",
     "start_time": "2016-07-08T01:56:21.618000"
    },
    "collapsed": false,
    "jupyter": {
     "outputs_hidden": false
    },
    "scrolled": true
   },
   "outputs": [
    {
     "name": "stdout",
     "output_type": "stream",
     "text": [
      "Epoch 1/30\n",
      "1250/1250 - 2s - loss: 0.5776 - val_loss: 0.3877 - 2s/epoch - 1ms/step\n",
      "Epoch 2/30\n",
      "1250/1250 - 1s - loss: 0.4401 - val_loss: 0.2778 - 1s/epoch - 1ms/step\n",
      "Epoch 3/30\n",
      "1250/1250 - 1s - loss: 0.3538 - val_loss: 0.2118 - 1s/epoch - 1ms/step\n",
      "Epoch 4/30\n",
      "1250/1250 - 1s - loss: 0.3010 - val_loss: 0.1728 - 1s/epoch - 1ms/step\n",
      "Epoch 5/30\n",
      "1250/1250 - 1s - loss: 0.2686 - val_loss: 0.1489 - 1s/epoch - 1ms/step\n",
      "Epoch 6/30\n",
      "1250/1250 - 1s - loss: 0.2490 - val_loss: 0.1324 - 1s/epoch - 1ms/step\n",
      "Epoch 7/30\n",
      "1250/1250 - 1s - loss: 0.2333 - val_loss: 0.1201 - 1s/epoch - 1ms/step\n",
      "Epoch 8/30\n",
      "1250/1250 - 1s - loss: 0.2211 - val_loss: 0.1100 - 1s/epoch - 1ms/step\n",
      "Epoch 9/30\n",
      "1250/1250 - 1s - loss: 0.2094 - val_loss: 0.1016 - 1s/epoch - 1ms/step\n",
      "Epoch 10/30\n",
      "1250/1250 - 2s - loss: 0.2011 - val_loss: 0.0944 - 2s/epoch - 1ms/step\n",
      "Epoch 11/30\n",
      "1250/1250 - 2s - loss: 0.1938 - val_loss: 0.0880 - 2s/epoch - 1ms/step\n",
      "Epoch 12/30\n",
      "1250/1250 - 2s - loss: 0.1860 - val_loss: 0.0824 - 2s/epoch - 2ms/step\n",
      "Epoch 13/30\n",
      "1250/1250 - 2s - loss: 0.1787 - val_loss: 0.0774 - 2s/epoch - 2ms/step\n",
      "Epoch 14/30\n",
      "1250/1250 - 2s - loss: 0.1729 - val_loss: 0.0729 - 2s/epoch - 1ms/step\n",
      "Epoch 15/30\n",
      "1250/1250 - 2s - loss: 0.1680 - val_loss: 0.0689 - 2s/epoch - 1ms/step\n",
      "Epoch 16/30\n",
      "1250/1250 - 2s - loss: 0.1626 - val_loss: 0.0652 - 2s/epoch - 1ms/step\n",
      "Epoch 17/30\n",
      "1250/1250 - 2s - loss: 0.1591 - val_loss: 0.0619 - 2s/epoch - 1ms/step\n",
      "Epoch 18/30\n",
      "1250/1250 - 2s - loss: 0.1543 - val_loss: 0.0588 - 2s/epoch - 1ms/step\n",
      "Epoch 19/30\n",
      "1250/1250 - 2s - loss: 0.1496 - val_loss: 0.0561 - 2s/epoch - 1ms/step\n",
      "Epoch 20/30\n",
      "1250/1250 - 2s - loss: 0.1459 - val_loss: 0.0535 - 2s/epoch - 1ms/step\n",
      "Epoch 21/30\n",
      "1250/1250 - 2s - loss: 0.1415 - val_loss: 0.0512 - 2s/epoch - 1ms/step\n",
      "Epoch 22/30\n",
      "1250/1250 - 1s - loss: 0.1400 - val_loss: 0.0490 - 1s/epoch - 1ms/step\n",
      "Epoch 23/30\n",
      "1250/1250 - 2s - loss: 0.1362 - val_loss: 0.0470 - 2s/epoch - 1ms/step\n",
      "Epoch 24/30\n",
      "1250/1250 - 2s - loss: 0.1332 - val_loss: 0.0451 - 2s/epoch - 1ms/step\n",
      "Epoch 25/30\n",
      "1250/1250 - 2s - loss: 0.1304 - val_loss: 0.0434 - 2s/epoch - 1ms/step\n",
      "Epoch 26/30\n",
      "1250/1250 - 2s - loss: 0.1274 - val_loss: 0.0418 - 2s/epoch - 1ms/step\n",
      "Epoch 27/30\n",
      "1250/1250 - 1s - loss: 0.1242 - val_loss: 0.0403 - 1s/epoch - 1ms/step\n",
      "Epoch 28/30\n",
      "1250/1250 - 1s - loss: 0.1218 - val_loss: 0.0388 - 1s/epoch - 1ms/step\n",
      "Epoch 29/30\n",
      "1250/1250 - 2s - loss: 0.1212 - val_loss: 0.0375 - 2s/epoch - 1ms/step\n",
      "Epoch 30/30\n",
      "1250/1250 - 1s - loss: 0.1183 - val_loss: 0.0362 - 1s/epoch - 1ms/step\n"
     ]
    },
    {
     "data": {
      "text/plain": [
       "<keras.callbacks.History at 0x1a542f39850>"
      ]
     },
     "execution_count": 29,
     "metadata": {},
     "output_type": "execute_result"
    }
   ],
   "source": [
    "# Train.\n",
    "model.fit(train_X, train_y, epochs=30, validation_data=(test_X, test_y), verbose=2)"
   ]
  },
  {
   "cell_type": "code",
   "execution_count": 30,
   "metadata": {
    "ExecuteTime": {
     "end_time": "2016-07-08T01:57:20.286000",
     "start_time": "2016-07-08T01:57:19.975000"
    },
    "collapsed": false,
    "jupyter": {
     "outputs_hidden": false
    }
   },
   "outputs": [
    {
     "data": {
      "text/plain": [
       "(10000, 1, 4)"
      ]
     },
     "execution_count": 30,
     "metadata": {},
     "output_type": "execute_result"
    }
   ],
   "source": [
    "# Predict bounding boxes on the test images.\n",
    "pred_y = model.predict(test_X)\n",
    "pred_bboxes = pred_y * img_size\n",
    "pred_bboxes = pred_bboxes.reshape(len(pred_bboxes), num_objects, -1)\n",
    "pred_bboxes.shape"
   ]
  },
  {
   "cell_type": "code",
   "execution_count": 31,
   "metadata": {
    "ExecuteTime": {
     "end_time": "2016-07-08T01:57:20.311000",
     "start_time": "2016-07-08T01:57:20.289000"
    },
    "tags": []
   },
   "outputs": [],
   "source": [
    "def IOU(bbox1, bbox2):\n",
    "    '''Calculate overlap between two bounding boxes [x, y, w, h] as the area of intersection over the area of unity'''\n",
    "    x1, y1, w1, h1 = bbox1[0], bbox1[1], bbox1[2], bbox1[3]\n",
    "    x2, y2, w2, h2 = bbox2[0], bbox2[1], bbox2[2], bbox2[3]\n",
    "\n",
    "    w_I = min(x1 + w1, x2 + w2) - max(x1, x2)\n",
    "    h_I = min(y1 + h1, y2 + h2) - max(y1, y2)\n",
    "    if w_I <= 0 or h_I <= 0:  # no overlap\n",
    "        return 0.\n",
    "    I = w_I * h_I\n",
    "\n",
    "    U = w1 * h1 + w2 * h2 - I\n",
    "\n",
    "    return I / U"
   ]
  },
  {
   "cell_type": "code",
   "execution_count": 22,
   "metadata": {
    "ExecuteTime": {
     "end_time": "2016-07-08T02:01:30.216000",
     "start_time": "2016-07-08T02:01:29.481000"
    },
    "collapsed": false,
    "jupyter": {
     "outputs_hidden": false
    }
   },
   "outputs": [
    {
     "data": {
      "image/png": "[encoded data removed]",
      "text/plain": [
       "<matplotlib.figure.Figure at 0x12d42400>"
      ]
     },
     "metadata": {},
     "output_type": "display_data"
    }
   ],
   "source": [
    "# Show a few images and predicted bounding boxes from the test dataset. \n",
    "plt.figure(figsize=(12, 3))\n",
    "for i_subplot in range(1, 5):\n",
    "    plt.subplot(1, 4, i_subplot)\n",
    "    i = np.random.randint(len(test_imgs))\n",
    "    plt.imshow(test_imgs[i].T, cmap='Greys', interpolation='none', origin='lower', extent=[0, img_size, 0, img_size])\n",
    "    for pred_bbox, exp_bbox in zip(pred_bboxes[i], test_bboxes[i]):\n",
    "        plt.gca().add_patch(matplotlib.patches.Rectangle((pred_bbox[0], pred_bbox[1]), pred_bbox[2], pred_bbox[3], ec='r', fc='none'))\n",
    "        plt.annotate('IOU: {:.2f}'.format(IOU(pred_bbox, exp_bbox)), (pred_bbox[0], pred_bbox[1]+pred_bbox[3]+0.2), color='r')\n",
    "        \n",
    "# plt.savefig('plots/bw-single-rectangle_prediction.png', dpi=300)"
   ]
  },
  {
   "cell_type": "code",
   "execution_count": 23,
   "metadata": {
    "ExecuteTime": {
     "end_time": "2016-07-08T02:01:45.826000",
     "start_time": "2016-07-08T02:01:45.738000"
    },
    "collapsed": false,
    "jupyter": {
     "outputs_hidden": false
    }
   },
   "outputs": [
    {
     "data": {
      "text/plain": [
       "0.88166504246337463"
      ]
     },
     "execution_count": 23,
     "metadata": {},
     "output_type": "execute_result"
    }
   ],
   "source": [
    "# Calculate the mean IOU (overlap) between the predicted and expected bounding boxes on the test dataset. \n",
    "summed_IOU = 0.\n",
    "for pred_bbox, test_bbox in zip(pred_bboxes.reshape(-1, 4), test_bboxes.reshape(-1, 4)):\n",
    "    summed_IOU += IOU(pred_bbox, test_bbox)\n",
    "mean_IOU = summed_IOU / len(pred_bboxes)\n",
    "mean_IOU"
   ]
  },
  {
   "cell_type": "code",
   "execution_count": null,
   "metadata": {
    "collapsed": true,
    "jupyter": {
     "outputs_hidden": true
    }
   },
   "outputs": [],
   "source": []
  }
 ],
 "metadata": {
  "kernelspec": {
   "display_name": "Python 3 (ipykernel)",
   "language": "python",
   "name": "python3"
  },
  "language_info": {
   "codemirror_mode": {
    "name": "ipython",
    "version": 3
   },
   "file_extension": ".py",
   "mimetype": "text/x-python",
   "name": "python",
   "nbconvert_exporter": "python",
   "pygments_lexer": "ipython3",
   "version": "3.9.8"
  }
 },
 "nbformat": 4,
 "nbformat_minor": 4
}
