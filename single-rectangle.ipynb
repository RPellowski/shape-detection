{
 "cells": [
  {
   "cell_type": "code",
   "execution_count": 1,
   "metadata": {
    "ExecuteTime": {
     "end_time": "2016-07-08T01:56:12.535000",
     "start_time": "2016-07-08T01:56:12.147000"
    },
    "tags": []
   },
   "outputs": [],
   "source": [
    "import numpy as np\n",
    "import matplotlib.pyplot as plt\n",
    "import matplotlib\n",
    "%matplotlib inline\n",
    "%load_ext tensorboard"
   ]
  },
  {
   "cell_type": "code",
   "execution_count": 2,
   "metadata": {
    "ExecuteTime": {
     "end_time": "2016-07-08T01:56:14.210000",
     "start_time": "2016-07-08T01:56:13.200000"
    },
    "collapsed": false,
    "jupyter": {
     "outputs_hidden": false
    }
   },
   "outputs": [
    {
     "data": {
      "text/plain": [
       "((50000, 8, 8), (50000, 1, 4))"
      ]
     },
     "execution_count": 2,
     "metadata": {},
     "output_type": "execute_result"
    }
   ],
   "source": [
    "# Create images with random rectangles and bounding boxes. \n",
    "num_imgs = 50000\n",
    "\n",
    "img_size = 8\n",
    "min_object_size = 1\n",
    "max_object_size = 4\n",
    "num_objects = 1\n",
    "\n",
    "bboxes = np.zeros((num_imgs, num_objects, 4))\n",
    "imgs = np.zeros((num_imgs, img_size, img_size))  # set background to 0\n",
    "\n",
    "for i_img in range(num_imgs):\n",
    "    for i_object in range(num_objects):\n",
    "        w, h = np.random.randint(min_object_size, max_object_size, size=2)\n",
    "        x = np.random.randint(0, img_size - w)\n",
    "        y = np.random.randint(0, img_size - h)\n",
    "        imgs[i_img, x:x+w, y:y+h] = 1.  # set rectangle to 1\n",
    "        bboxes[i_img, i_object] = [x, y, w, h]\n",
    "        \n",
    "imgs.shape, bboxes.shape"
   ]
  },
  {
   "cell_type": "code",
   "execution_count": 3,
   "metadata": {
    "ExecuteTime": {
     "end_time": "2016-07-08T01:56:15.125000",
     "start_time": "2016-07-08T01:56:14.870000"
    },
    "collapsed": false,
    "jupyter": {
     "outputs_hidden": false
    }
   },
   "outputs": [
    {
     "data": {
      "image/png": "[encoded data removed]",
      "text/plain": [
       "<Figure size 432x288 with 1 Axes>"
      ]
     },
     "metadata": {
      "needs_background": "light"
     },
     "output_type": "display_data"
    }
   ],
   "source": [
    "i = 0\n",
    "plt.imshow(imgs[i].T, cmap='Greys', interpolation='none', origin='lower', extent=[0, img_size, 0, img_size])\n",
    "for bbox in bboxes[i]:\n",
    "    plt.gca().add_patch(matplotlib.patches.Rectangle((bbox[0], bbox[1]), bbox[2], bbox[3], ec='r', fc='none'))"
   ]
  },
  {
   "cell_type": "code",
   "execution_count": 4,
   "metadata": {
    "ExecuteTime": {
     "end_time": "2016-07-08T01:56:15.930000",
     "start_time": "2016-07-08T01:56:15.803000"
    },
    "collapsed": false,
    "jupyter": {
     "outputs_hidden": false
    }
   },
   "outputs": [
    {
     "data": {
      "text/plain": [
       "((50000, 64), 1.0544898287889736e-17, 0.9999999999999996)"
      ]
     },
     "execution_count": 4,
     "metadata": {},
     "output_type": "execute_result"
    }
   ],
   "source": [
    "# Reshape and normalize the image data to mean 0 and std 1. \n",
    "X = (imgs.reshape(num_imgs, -1) - np.mean(imgs)) / np.std(imgs)\n",
    "X.shape, np.mean(X), np.std(X)"
   ]
  },
  {
   "cell_type": "code",
   "execution_count": 5,
   "metadata": {
    "ExecuteTime": {
     "end_time": "2016-07-08T01:56:16.558000",
     "start_time": "2016-07-08T01:56:16.548000"
    },
    "collapsed": false,
    "jupyter": {
     "outputs_hidden": false
    }
   },
   "outputs": [
    {
     "data": {
      "text/plain": [
       "((50000, 4), 0.281419375, 0.1748457205641859)"
      ]
     },
     "execution_count": 5,
     "metadata": {},
     "output_type": "execute_result"
    }
   ],
   "source": [
    "# Normalize x, y, w, h by img_size, so that all values are between 0 and 1.\n",
    "# Important: Do not shift to negative values (e.g. by setting to mean 0), because the IOU calculation needs positive w and h.\n",
    "y = bboxes.reshape(num_imgs, -1) / img_size\n",
    "y.shape, np.mean(y), np.std(y)"
   ]
  },
  {
   "cell_type": "code",
   "execution_count": 6,
   "metadata": {
    "ExecuteTime": {
     "end_time": "2016-07-08T01:56:17.198000",
     "start_time": "2016-07-08T01:56:17.192000"
    },
    "tags": []
   },
   "outputs": [],
   "source": [
    "# Split training and test.\n",
    "i = int(0.8 * num_imgs)\n",
    "train_X = X[:i]\n",
    "test_X = X[i:]\n",
    "train_y = y[:i]\n",
    "test_y = y[i:]\n",
    "test_imgs = imgs[i:]\n",
    "test_bboxes = bboxes[i:]"
   ]
  },
  {
   "cell_type": "code",
   "execution_count": 7,
   "metadata": {
    "ExecuteTime": {
     "end_time": "2016-07-08T01:56:21.616000",
     "start_time": "2016-07-08T01:56:17.964000"
    },
    "collapsed": false,
    "jupyter": {
     "outputs_hidden": false
    }
   },
   "outputs": [],
   "source": [
    "# Build the model.\n",
    "from tensorflow.keras.models import Sequential\n",
    "from tensorflow.keras.layers import Dense, Activation, Dropout\n",
    "from tensorflow.keras.optimizers import SGD\n",
    "model = Sequential([\n",
    "        Dense(200, input_dim=X.shape[-1]), \n",
    "        Activation('relu'), \n",
    "        Dropout(0.2), \n",
    "        Dense(y.shape[-1])\n",
    "    ])\n",
    "model.compile(optimizer='adadelta', loss='mse', metrics=['accuracy'])"
   ]
  },
  {
   "cell_type": "code",
   "execution_count": 8,
   "metadata": {},
   "outputs": [],
   "source": [
    "import datetime\n",
    "from tensorflow.keras.callbacks import TensorBoard\n",
    "log_dir = \"logs/fit/\" + datetime.datetime.now().strftime(\"%Y%m%d-%H%M%S\")\n",
    "tensorboard_callback = TensorBoard(log_dir=log_dir, histogram_freq=1)"
   ]
  },
  {
   "cell_type": "code",
   "execution_count": 9,
   "metadata": {
    "ExecuteTime": {
     "end_time": "2016-07-08T01:57:19.973000",
     "start_time": "2016-07-08T01:56:21.618000"
    },
    "collapsed": false,
    "jupyter": {
     "outputs_hidden": false
    },
    "scrolled": true
   },
   "outputs": [
    {
     "name": "stdout",
     "output_type": "stream",
     "text": [
      "Epoch 1/30\n",
      "1250/1250 - 2s - loss: 0.7470 - accuracy: 0.1927 - val_loss: 0.5226 - val_accuracy: 0.1924 - 2s/epoch - 2ms/step\n",
      "Epoch 2/30\n",
      "1250/1250 - 2s - loss: 0.5665 - accuracy: 0.2061 - val_loss: 0.3788 - val_accuracy: 0.2054 - 2s/epoch - 2ms/step\n",
      "Epoch 3/30\n",
      "1250/1250 - 2s - loss: 0.4471 - accuracy: 0.2207 - val_loss: 0.2838 - val_accuracy: 0.2184 - 2s/epoch - 1ms/step\n",
      "Epoch 4/30\n",
      "1250/1250 - 2s - loss: 0.3691 - accuracy: 0.2374 - val_loss: 0.2236 - val_accuracy: 0.2442 - 2s/epoch - 2ms/step\n",
      "Epoch 5/30\n",
      "1250/1250 - 2s - loss: 0.3213 - accuracy: 0.2526 - val_loss: 0.1849 - val_accuracy: 0.2653 - 2s/epoch - 1ms/step\n",
      "Epoch 6/30\n",
      "1250/1250 - 4s - loss: 0.2874 - accuracy: 0.2696 - val_loss: 0.1584 - val_accuracy: 0.2739 - 4s/epoch - 3ms/step\n",
      "Epoch 7/30\n",
      "1250/1250 - 2s - loss: 0.2637 - accuracy: 0.2815 - val_loss: 0.1391 - val_accuracy: 0.2836 - 2s/epoch - 1ms/step\n",
      "Epoch 8/30\n",
      "1250/1250 - 2s - loss: 0.2461 - accuracy: 0.2979 - val_loss: 0.1239 - val_accuracy: 0.3033 - 2s/epoch - 1ms/step\n",
      "Epoch 9/30\n",
      "1250/1250 - 1s - loss: 0.2287 - accuracy: 0.3095 - val_loss: 0.1120 - val_accuracy: 0.3238 - 1s/epoch - 1ms/step\n",
      "Epoch 10/30\n",
      "1250/1250 - 2s - loss: 0.2186 - accuracy: 0.3179 - val_loss: 0.1021 - val_accuracy: 0.3491 - 2s/epoch - 1ms/step\n",
      "Epoch 11/30\n",
      "1250/1250 - 2s - loss: 0.2089 - accuracy: 0.3338 - val_loss: 0.0938 - val_accuracy: 0.3883 - 2s/epoch - 1ms/step\n",
      "Epoch 12/30\n",
      "1250/1250 - 2s - loss: 0.1979 - accuracy: 0.3388 - val_loss: 0.0869 - val_accuracy: 0.4040 - 2s/epoch - 1ms/step\n",
      "Epoch 13/30\n",
      "1250/1250 - 2s - loss: 0.1904 - accuracy: 0.3476 - val_loss: 0.0810 - val_accuracy: 0.4119 - 2s/epoch - 1ms/step\n",
      "Epoch 14/30\n",
      "1250/1250 - 2s - loss: 0.1832 - accuracy: 0.3569 - val_loss: 0.0758 - val_accuracy: 0.4243 - 2s/epoch - 1ms/step\n",
      "Epoch 15/30\n",
      "1250/1250 - 2s - loss: 0.1777 - accuracy: 0.3622 - val_loss: 0.0712 - val_accuracy: 0.4312 - 2s/epoch - 1ms/step\n",
      "Epoch 16/30\n",
      "1250/1250 - 4s - loss: 0.1710 - accuracy: 0.3656 - val_loss: 0.0672 - val_accuracy: 0.4342 - 4s/epoch - 3ms/step\n",
      "Epoch 17/30\n",
      "1250/1250 - 2s - loss: 0.1677 - accuracy: 0.3681 - val_loss: 0.0636 - val_accuracy: 0.4514 - 2s/epoch - 1ms/step\n",
      "Epoch 18/30\n",
      "1250/1250 - 2s - loss: 0.1614 - accuracy: 0.3711 - val_loss: 0.0604 - val_accuracy: 0.4544 - 2s/epoch - 1ms/step\n",
      "Epoch 19/30\n",
      "1250/1250 - 2s - loss: 0.1578 - accuracy: 0.3766 - val_loss: 0.0575 - val_accuracy: 0.4544 - 2s/epoch - 1ms/step\n",
      "Epoch 20/30\n",
      "1250/1250 - 2s - loss: 0.1544 - accuracy: 0.3846 - val_loss: 0.0548 - val_accuracy: 0.4629 - 2s/epoch - 1ms/step\n",
      "Epoch 21/30\n",
      "1250/1250 - 2s - loss: 0.1516 - accuracy: 0.3853 - val_loss: 0.0524 - val_accuracy: 0.4629 - 2s/epoch - 1ms/step\n",
      "Epoch 22/30\n",
      "1250/1250 - 2s - loss: 0.1466 - accuracy: 0.3860 - val_loss: 0.0501 - val_accuracy: 0.4739 - 2s/epoch - 1ms/step\n",
      "Epoch 23/30\n",
      "1250/1250 - 1s - loss: 0.1439 - accuracy: 0.3929 - val_loss: 0.0481 - val_accuracy: 0.4798 - 1s/epoch - 1ms/step\n",
      "Epoch 24/30\n",
      "1250/1250 - 1s - loss: 0.1414 - accuracy: 0.3912 - val_loss: 0.0462 - val_accuracy: 0.4816 - 1s/epoch - 1ms/step\n",
      "Epoch 25/30\n",
      "1250/1250 - 1s - loss: 0.1376 - accuracy: 0.3975 - val_loss: 0.0444 - val_accuracy: 0.4952 - 1s/epoch - 1ms/step\n",
      "Epoch 26/30\n",
      "1250/1250 - 2s - loss: 0.1346 - accuracy: 0.3968 - val_loss: 0.0427 - val_accuracy: 0.5074 - 2s/epoch - 1ms/step\n",
      "Epoch 27/30\n",
      "1250/1250 - 2s - loss: 0.1320 - accuracy: 0.4035 - val_loss: 0.0412 - val_accuracy: 0.5177 - 2s/epoch - 1ms/step\n",
      "Epoch 28/30\n",
      "1250/1250 - 2s - loss: 0.1313 - accuracy: 0.4014 - val_loss: 0.0397 - val_accuracy: 0.5242 - 2s/epoch - 1ms/step\n",
      "Epoch 29/30\n",
      "1250/1250 - 2s - loss: 0.1273 - accuracy: 0.4017 - val_loss: 0.0383 - val_accuracy: 0.5264 - 2s/epoch - 1ms/step\n",
      "Epoch 30/30\n",
      "1250/1250 - 2s - loss: 0.1253 - accuracy: 0.4091 - val_loss: 0.0371 - val_accuracy: 0.5326 - 2s/epoch - 1ms/step\n"
     ]
    },
    {
     "data": {
      "text/plain": [
       "<keras.callbacks.History at 0x17d6c50e430>"
      ]
     },
     "execution_count": 9,
     "metadata": {},
     "output_type": "execute_result"
    }
   ],
   "source": [
    "# Train.\n",
    "model.fit(train_X, train_y, epochs=30, validation_data=(test_X, test_y), verbose=2, \n",
    "          callbacks=[tensorboard_callback])"
   ]
  },
  {
   "cell_type": "code",
   "execution_count": 10,
   "metadata": {},
   "outputs": [
    {
     "data": {
      "text/plain": [
       "Reusing TensorBoard on port 6006 (pid 10736), started 0:47:03 ago. (Use '!kill 10736' to kill it.)"
      ]
     },
     "metadata": {},
     "output_type": "display_data"
    },
    {
     "data": {
      "text/html": [
       "\n",
       "      <iframe id=\"tensorboard-frame-74422f8bfc244e57\" width=\"100%\" height=\"800\" frameborder=\"0\">\n",
       "      </iframe>\n",
       "      <script>\n",
       "        (function() {\n",
       "          const frame = document.getElementById(\"tensorboard-frame-74422f8bfc244e57\");\n",
       "          const url = new URL(\"/\", window.location);\n",
       "          const port = 6006;\n",
       "          if (port) {\n",
       "            url.port = port;\n",
       "          }\n",
       "          frame.src = url;\n",
       "        })();\n",
       "      </script>\n",
       "    "
      ],
      "text/plain": [
       "<IPython.core.display.HTML object>"
      ]
     },
     "metadata": {},
     "output_type": "display_data"
    }
   ],
   "source": [
    "%tensorboard --logdir logs/fit"
   ]
  },
  {
   "cell_type": "code",
   "execution_count": 11,
   "metadata": {
    "ExecuteTime": {
     "end_time": "2016-07-08T01:57:20.286000",
     "start_time": "2016-07-08T01:57:19.975000"
    },
    "collapsed": false,
    "jupyter": {
     "outputs_hidden": false
    }
   },
   "outputs": [
    {
     "data": {
      "text/plain": [
       "(10000, 1, 4)"
      ]
     },
     "execution_count": 11,
     "metadata": {},
     "output_type": "execute_result"
    }
   ],
   "source": [
    "# Predict bounding boxes on the test images.\n",
    "pred_y = model.predict(test_X)\n",
    "pred_bboxes = pred_y * img_size\n",
    "pred_bboxes = pred_bboxes.reshape(len(pred_bboxes), num_objects, -1)\n",
    "pred_bboxes.shape"
   ]
  },
  {
   "cell_type": "code",
   "execution_count": 12,
   "metadata": {
    "ExecuteTime": {
     "end_time": "2016-07-08T01:57:20.311000",
     "start_time": "2016-07-08T01:57:20.289000"
    },
    "tags": []
   },
   "outputs": [],
   "source": [
    "def IOU(bbox1, bbox2):\n",
    "    '''Calculate overlap between two bounding boxes [x, y, w, h] as the area of intersection over the area of unity'''\n",
    "    x1, y1, w1, h1 = bbox1[0], bbox1[1], bbox1[2], bbox1[3]\n",
    "    x2, y2, w2, h2 = bbox2[0], bbox2[1], bbox2[2], bbox2[3]\n",
    "\n",
    "    w_I = min(x1 + w1, x2 + w2) - max(x1, x2)\n",
    "    h_I = min(y1 + h1, y2 + h2) - max(y1, y2)\n",
    "    if w_I <= 0 or h_I <= 0:  # no overlap\n",
    "        return 0.\n",
    "    I = w_I * h_I\n",
    "\n",
    "    U = w1 * h1 + w2 * h2 - I\n",
    "\n",
    "    return I / U"
   ]
  },
  {
   "cell_type": "code",
   "execution_count": 13,
   "metadata": {
    "ExecuteTime": {
     "end_time": "2016-07-08T02:01:30.216000",
     "start_time": "2016-07-08T02:01:29.481000"
    },
    "collapsed": false,
    "jupyter": {
     "outputs_hidden": false
    }
   },
   "outputs": [
    {
     "data": {
      "image/png": "[encoded data removed]",
      "text/plain": [
       "<Figure size 864x216 with 4 Axes>"
      ]
     },
     "metadata": {
      "needs_background": "light"
     },
     "output_type": "display_data"
    }
   ],
   "source": [
    "# Show a few images and predicted bounding boxes from the test dataset. \n",
    "plt.figure(figsize=(12, 3))\n",
    "for i_subplot in range(1, 5):\n",
    "    plt.subplot(1, 4, i_subplot)\n",
    "    i = np.random.randint(len(test_imgs))\n",
    "    plt.imshow(test_imgs[i].T, cmap='Greys', interpolation='none', origin='lower', extent=[0, img_size, 0, img_size])\n",
    "    for pred_bbox, exp_bbox in zip(pred_bboxes[i], test_bboxes[i]):\n",
    "        plt.gca().add_patch(matplotlib.patches.Rectangle((pred_bbox[0], pred_bbox[1]), pred_bbox[2], pred_bbox[3], ec='r', fc='none'))\n",
    "        plt.annotate('IOU: {:.2f}'.format(IOU(pred_bbox, exp_bbox)), (pred_bbox[0], pred_bbox[1]+pred_bbox[3]+0.2), color='r')\n",
    "        \n",
    "# plt.savefig('plots/bw-single-rectangle_prediction.png', dpi=300)"
   ]
  },
  {
   "cell_type": "code",
   "execution_count": 14,
   "metadata": {
    "ExecuteTime": {
     "end_time": "2016-07-08T02:01:45.826000",
     "start_time": "2016-07-08T02:01:45.738000"
    },
    "collapsed": false,
    "jupyter": {
     "outputs_hidden": false
    }
   },
   "outputs": [
    {
     "data": {
      "text/plain": [
       "0.09316696170919579"
      ]
     },
     "execution_count": 14,
     "metadata": {},
     "output_type": "execute_result"
    }
   ],
   "source": [
    "# Calculate the mean IOU (overlap) between the predicted and expected bounding boxes on the test dataset. \n",
    "summed_IOU = 0.\n",
    "for pred_bbox, test_bbox in zip(pred_bboxes.reshape(-1, 4), test_bboxes.reshape(-1, 4)):\n",
    "    summed_IOU += IOU(pred_bbox, test_bbox)\n",
    "mean_IOU = summed_IOU / len(pred_bboxes)\n",
    "mean_IOU"
   ]
  },
  {
   "cell_type": "code",
   "execution_count": null,
   "metadata": {
    "collapsed": true,
    "jupyter": {
     "outputs_hidden": true
    }
   },
   "outputs": [],
   "source": []
  }
 ],
 "metadata": {
  "kernelspec": {
   "display_name": "Python 3 (ipykernel)",
   "language": "python",
   "name": "python3"
  },
  "language_info": {
   "codemirror_mode": {
    "name": "ipython",
    "version": 3
   },
   "file_extension": ".py",
   "mimetype": "text/x-python",
   "name": "python",
   "nbconvert_exporter": "python",
   "pygments_lexer": "ipython3",
   "version": "3.9.8"
  }
 },
 "nbformat": 4,
 "nbformat_minor": 4
}
